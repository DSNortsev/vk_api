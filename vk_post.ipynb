{
  "nbformat": 4,
  "nbformat_minor": 5,
  "metadata": {
    "kernelspec": {
      "display_name": "Python 3",
      "language": "python",
      "name": "python3"
    },
    "language_info": {
      "codemirror_mode": {
        "name": "ipython",
        "version": 3
      },
      "file_extension": ".py",
      "mimetype": "text/x-python",
      "name": "python",
      "nbconvert_exporter": "python",
      "pygments_lexer": "ipython3",
      "version": "3.9.2"
    },
    "colab": {
      "name": "vk_post.ipynb",
      "provenance": [],
      "include_colab_link": true
    }
  },
  "cells": [
    {
      "cell_type": "markdown",
      "metadata": {
        "id": "view-in-github",
        "colab_type": "text"
      },
      "source": [
        "<a href=\"https://colab.research.google.com/github/DSNortsev/vk_api/blob/main/vk_post.ipynb\" target=\"_parent\"><img src=\"https://colab.research.google.com/assets/colab-badge.svg\" alt=\"Open In Colab\"/></a>"
      ]
    },
    {
      "cell_type": "markdown",
      "metadata": {
        "id": "UxAjUOujn0iv"
      },
      "source": [
        "## Useful links:\n",
        "\n",
        "https://github.com/python273/vk_api/blob/master/vk_api/upload.py\n",
        "\n",
        "https://vk.com/dev/wall.post"
      ],
      "id": "UxAjUOujn0iv"
    },
    {
      "cell_type": "code",
      "metadata": {
        "id": "executive-burns"
      },
      "source": [
        "# Download/install vk_api library\n",
        "!pip install vk_api"
      ],
      "id": "executive-burns",
      "execution_count": null,
      "outputs": []
    },
    {
      "cell_type": "code",
      "metadata": {
        "id": "XUfloHv4nvF9"
      },
      "source": [
        "# -*- coding: utf-8 -*-\n",
        "import vk_api\n",
        "import config\n",
        "import requests\n",
        "\n",
        "\n",
        "vk_session = vk_api.VkApi(login=config.login, password=config.password)\n",
        "# vk = vk_session.get_api()\n",
        "try:\n",
        "    vk_session.auth(token_only=True)\n",
        "    print(\"ok\")\n",
        "except vk_api.AuthError as error_connect:\n",
        "    print(error_connect)\n",
        "\n",
        "upload = vk_api.VkUpload(vk_session)\n",
        "\n",
        "\n",
        "vk_photos = upload.photo(photos=['1.jpg', '2.jpg', '3.jpg', '4.jpg', '5.jpg'], album_id='279184675')\n",
        "\n",
        "vk_photos_id = ','.join([f'photo{photo[\"owner_id\"]}_{photo[\"id\"]}' for photo in vk_photos])\n",
        "\n",
        "vk_session.method('wall.post', {\n",
        "                  'message': config.text_message,\n",
        "                  'attachments': vk_photos_id #'photo615022059_457240069,photo615022059_457240054'\n",
        "                    })"
      ],
      "id": "XUfloHv4nvF9",
      "execution_count": null,
      "outputs": []
    }
  ]
}