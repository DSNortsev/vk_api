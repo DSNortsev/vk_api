{
  "nbformat": 4,
  "nbformat_minor": 5,
  "metadata": {
    "kernelspec": {
      "display_name": "Python 3",
      "language": "python",
      "name": "python3"
    },
    "language_info": {
      "codemirror_mode": {
        "name": "ipython",
        "version": 3
      },
      "file_extension": ".py",
      "mimetype": "text/x-python",
      "name": "python",
      "nbconvert_exporter": "python",
      "pygments_lexer": "ipython3",
      "version": "3.9.2"
    },
    "colab": {
      "name": "vk_post.ipynb",
      "provenance": [],
      "toc_visible": true,
      "include_colab_link": true
    }
  },
  "cells": [
    {
      "cell_type": "markdown",
      "metadata": {
        "id": "view-in-github",
        "colab_type": "text"
      },
      "source": [
        "<a href=\"https://colab.research.google.com/github/DSNortsev/vk_api/blob/main/vk_post.ipynb\" target=\"_parent\"><img src=\"https://colab.research.google.com/assets/colab-badge.svg\" alt=\"Open In Colab\"/></a>"
      ]
    },
    {
      "cell_type": "markdown",
      "metadata": {
        "id": "UxAjUOujn0iv"
      },
      "source": [
        "## Useful links:\n",
        "\n",
        "https://github.com/python273/vk_api/blob/master/vk_api/upload.py\n",
        "\n",
        "https://vk.com/dev/wall.post"
      ],
      "id": "UxAjUOujn0iv"
    },
    {
      "cell_type": "code",
      "metadata": {
        "id": "executive-burns",
        "outputId": "04e6b14c-af4e-4646-aa0c-90ae6bf648a8",
        "colab": {
          "base_uri": "https://localhost:8080/"
        }
      },
      "source": [
        "# Download/install vk_api library\n",
        "!pip install vk_api"
      ],
      "id": "executive-burns",
      "execution_count": 2,
      "outputs": [
        {
          "output_type": "stream",
          "text": [
            "Collecting vk_api\n",
            "  Downloading https://files.pythonhosted.org/packages/25/55/e15721b00dabb5eff7ec87918016ee20a0a73f6c7f5c152643330ae86e84/vk_api-11.9.1.tar.gz\n",
            "Requirement already satisfied: requests in /usr/local/lib/python3.7/dist-packages (from vk_api) (2.23.0)\n",
            "Requirement already satisfied: six in /usr/local/lib/python3.7/dist-packages (from vk_api) (1.15.0)\n",
            "Requirement already satisfied: urllib3!=1.25.0,!=1.25.1,<1.26,>=1.21.1 in /usr/local/lib/python3.7/dist-packages (from requests->vk_api) (1.24.3)\n",
            "Requirement already satisfied: chardet<4,>=3.0.2 in /usr/local/lib/python3.7/dist-packages (from requests->vk_api) (3.0.4)\n",
            "Requirement already satisfied: idna<3,>=2.5 in /usr/local/lib/python3.7/dist-packages (from requests->vk_api) (2.10)\n",
            "Requirement already satisfied: certifi>=2017.4.17 in /usr/local/lib/python3.7/dist-packages (from requests->vk_api) (2020.12.5)\n",
            "Building wheels for collected packages: vk-api\n",
            "  Building wheel for vk-api (setup.py) ... \u001b[?25l\u001b[?25hdone\n",
            "  Created wheel for vk-api: filename=vk_api-11.9.1-cp37-none-any.whl size=44095 sha256=2c78df3c6a2993583b06373105e6133f0169c3371f9d0282f5aec43abbbd44fc\n",
            "  Stored in directory: /root/.cache/pip/wheels/fc/43/59/8fba75529a5b85d5ff706007d699ab18bb90b7b54e074797c5\n",
            "Successfully built vk-api\n",
            "Installing collected packages: vk-api\n",
            "Successfully installed vk-api-11.9.1\n"
          ],
          "name": "stdout"
        }
      ]
    },
    {
      "cell_type": "code",
      "metadata": {
        "id": "XUfloHv4nvF9",
        "outputId": "a3693f2b-815d-4b4b-cebe-5b0b8e03555a",
        "colab": {
          "base_uri": "https://localhost:8080/"
        }
      },
      "source": [
        "# -*- coding: utf-8 -*-\n",
        "import vk_api\n",
        "import config\n",
        "import requests\n",
        "\n",
        "\n",
        "\n",
        "vk_session = vk_api.VkApi(login=config.login, password=config.password)\n",
        "# vk = vk_session.get_api()\n",
        "try:\n",
        "    vk_session.auth(token_only=True)\n",
        "    print(\"ok\")\n",
        "except vk_api.AuthError as error_connect:\n",
        "    print(error_connect)\n",
        "\n",
        "# Get a list of photo albums \n",
        "photo_albums = vk_session.method('photos.getAlbums', {\"owner_id\": 615022059})  \n",
        "photo_albums['items']\n",
        "\n",
        "# Create new photo album for current user\n",
        "created_albums = vk_session.method('photos.createAlbum',\n",
        "                                 {\"title\": 'Repost'})  \n",
        "\n",
        "\n",
        "upload = vk_api.VkUpload(vk_session)\n",
        "\n",
        "\n",
        "vk_photos = upload.photo(photos=['1.jpg', '2.jpg', '3.jpg', '4.jpg', '5.jpg'], album_id='279184675')\n",
        "\n",
        "vk_photos_id = ','.join([f'photo{photo[\"owner_id\"]}_{photo[\"id\"]}' for photo in vk_photos])\n",
        "\n",
        "vk_session.method('wall.post', {\n",
        "                  'message': config.text_message,\n",
        "                  'attachments': vk_photos_id #'photo615022059_457240069,photo615022059_457240054'\n",
        "                    })"
      ],
      "id": "XUfloHv4nvF9",
      "execution_count": 17,
      "outputs": [
        {
          "output_type": "stream",
          "text": [
            "ok\n"
          ],
          "name": "stdout"
        }
      ]
    },
    {
      "cell_type": "code",
      "metadata": {
        "id": "jSe_0DGatrYq",
        "outputId": "9f385362-aec7-44a2-f6dc-77405abcb389",
        "colab": {
          "base_uri": "https://localhost:8080/",
          "height": 36
        }
      },
      "source": [
        "photo_albums['items']\n"
      ],
      "id": "jSe_0DGatrYq",
      "execution_count": 16,
      "outputs": [
        {
          "output_type": "execute_result",
          "data": {
            "application/vnd.google.colaboratory.intrinsic+json": {
              "type": "string"
            },
            "text/plain": [
              "'repost'"
            ]
          },
          "metadata": {
            "tags": []
          },
          "execution_count": 16
        }
      ]
    },
    {
      "cell_type": "code",
      "metadata": {
        "id": "bG1dmncSt4VK",
        "outputId": "b9b7a425-c6ab-477b-85ec-d3c5cd356be1",
        "colab": {
          "base_uri": "https://localhost:8080/"
        }
      },
      "source": [
        "created_albums"
      ],
      "id": "bG1dmncSt4VK",
      "execution_count": 18,
      "outputs": [
        {
          "output_type": "execute_result",
          "data": {
            "text/plain": [
              "{'created': 1618896074,\n",
              " 'description': '',\n",
              " 'id': 279205095,\n",
              " 'owner_id': 615022059,\n",
              " 'privacy_comment': {'category': 'all'},\n",
              " 'privacy_view': {'category': 'all'},\n",
              " 'size': 0,\n",
              " 'thumb_id': 0,\n",
              " 'title': 'Repost',\n",
              " 'updated': 1618896074}"
            ]
          },
          "metadata": {
            "tags": []
          },
          "execution_count": 18
        }
      ]
    }
  ]
}